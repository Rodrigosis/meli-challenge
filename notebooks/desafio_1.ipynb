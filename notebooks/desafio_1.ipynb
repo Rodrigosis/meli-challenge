{
 "cells": [
  {
   "cell_type": "code",
   "execution_count": 1,
   "metadata": {
    "collapsed": true
   },
   "outputs": [],
   "source": [
    "import pandas as pd"
   ]
  },
  {
   "cell_type": "code",
   "execution_count": 2,
   "outputs": [
    {
     "data": {
      "text/plain": "                         personagem_1        personagem_2  interacoes  livro\n0                      Addam-Marbrand     Jaime-Lannister           3      1\n1                      Addam-Marbrand     Tywin-Lannister           6      1\n2                   Aegon-I-Targaryen  Daenerys-Targaryen           5      1\n3                   Aegon-I-Targaryen        Eddard-Stark           4      1\n4     Aemon-Targaryen-(Maester-Aemon)      Alliser-Thorne           4      1\n...                               ...                 ...         ...    ...\n2461                 Tyrion-Lannister   Viserys-Targaryen           4      3\n2462                 Tyrion-Lannister       Willas-Tyrell           5      3\n2463                  Tywin-Lannister               Varys           5      3\n2464                  Tywin-Lannister         Walder-Frey           4      3\n2465                       Vargo-Hoat               Zollo           3      3\n\n[2466 rows x 4 columns]",
      "text/html": "<div>\n<style scoped>\n    .dataframe tbody tr th:only-of-type {\n        vertical-align: middle;\n    }\n\n    .dataframe tbody tr th {\n        vertical-align: top;\n    }\n\n    .dataframe thead th {\n        text-align: right;\n    }\n</style>\n<table border=\"1\" class=\"dataframe\">\n  <thead>\n    <tr style=\"text-align: right;\">\n      <th></th>\n      <th>personagem_1</th>\n      <th>personagem_2</th>\n      <th>interacoes</th>\n      <th>livro</th>\n    </tr>\n  </thead>\n  <tbody>\n    <tr>\n      <th>0</th>\n      <td>Addam-Marbrand</td>\n      <td>Jaime-Lannister</td>\n      <td>3</td>\n      <td>1</td>\n    </tr>\n    <tr>\n      <th>1</th>\n      <td>Addam-Marbrand</td>\n      <td>Tywin-Lannister</td>\n      <td>6</td>\n      <td>1</td>\n    </tr>\n    <tr>\n      <th>2</th>\n      <td>Aegon-I-Targaryen</td>\n      <td>Daenerys-Targaryen</td>\n      <td>5</td>\n      <td>1</td>\n    </tr>\n    <tr>\n      <th>3</th>\n      <td>Aegon-I-Targaryen</td>\n      <td>Eddard-Stark</td>\n      <td>4</td>\n      <td>1</td>\n    </tr>\n    <tr>\n      <th>4</th>\n      <td>Aemon-Targaryen-(Maester-Aemon)</td>\n      <td>Alliser-Thorne</td>\n      <td>4</td>\n      <td>1</td>\n    </tr>\n    <tr>\n      <th>...</th>\n      <td>...</td>\n      <td>...</td>\n      <td>...</td>\n      <td>...</td>\n    </tr>\n    <tr>\n      <th>2461</th>\n      <td>Tyrion-Lannister</td>\n      <td>Viserys-Targaryen</td>\n      <td>4</td>\n      <td>3</td>\n    </tr>\n    <tr>\n      <th>2462</th>\n      <td>Tyrion-Lannister</td>\n      <td>Willas-Tyrell</td>\n      <td>5</td>\n      <td>3</td>\n    </tr>\n    <tr>\n      <th>2463</th>\n      <td>Tywin-Lannister</td>\n      <td>Varys</td>\n      <td>5</td>\n      <td>3</td>\n    </tr>\n    <tr>\n      <th>2464</th>\n      <td>Tywin-Lannister</td>\n      <td>Walder-Frey</td>\n      <td>4</td>\n      <td>3</td>\n    </tr>\n    <tr>\n      <th>2465</th>\n      <td>Vargo-Hoat</td>\n      <td>Zollo</td>\n      <td>3</td>\n      <td>3</td>\n    </tr>\n  </tbody>\n</table>\n<p>2466 rows × 4 columns</p>\n</div>"
     },
     "execution_count": 2,
     "metadata": {},
     "output_type": "execute_result"
    }
   ],
   "source": [
    "data = pd.read_csv('dataset.csv', names=['personagem_1', 'personagem_2', 'interacoes', 'livro'])\n",
    "data"
   ],
   "metadata": {
    "collapsed": false,
    "pycharm": {
     "name": "#%%\n"
    }
   }
  },
  {
   "cell_type": "code",
   "execution_count": 3,
   "outputs": [
    {
     "data": {
      "text/plain": "                           personagem\n0                      Addam-Marbrand\n2                   Aegon-I-Targaryen\n4     Aemon-Targaryen-(Maester-Aemon)\n11                 Aerys-II-Targaryen\n17                               Aggo\n...                               ...\n4816                          Ragwyle\n4833                Rollam-Westerling\n4849                     Rolph-Spicer\n4858                Tristifer-IV-Mudd\n4882                            Zollo\n\n[498 rows x 1 columns]",
      "text/html": "<div>\n<style scoped>\n    .dataframe tbody tr th:only-of-type {\n        vertical-align: middle;\n    }\n\n    .dataframe tbody tr th {\n        vertical-align: top;\n    }\n\n    .dataframe thead th {\n        text-align: right;\n    }\n</style>\n<table border=\"1\" class=\"dataframe\">\n  <thead>\n    <tr style=\"text-align: right;\">\n      <th></th>\n      <th>personagem</th>\n    </tr>\n  </thead>\n  <tbody>\n    <tr>\n      <th>0</th>\n      <td>Addam-Marbrand</td>\n    </tr>\n    <tr>\n      <th>2</th>\n      <td>Aegon-I-Targaryen</td>\n    </tr>\n    <tr>\n      <th>4</th>\n      <td>Aemon-Targaryen-(Maester-Aemon)</td>\n    </tr>\n    <tr>\n      <th>11</th>\n      <td>Aerys-II-Targaryen</td>\n    </tr>\n    <tr>\n      <th>17</th>\n      <td>Aggo</td>\n    </tr>\n    <tr>\n      <th>...</th>\n      <td>...</td>\n    </tr>\n    <tr>\n      <th>4816</th>\n      <td>Ragwyle</td>\n    </tr>\n    <tr>\n      <th>4833</th>\n      <td>Rollam-Westerling</td>\n    </tr>\n    <tr>\n      <th>4849</th>\n      <td>Rolph-Spicer</td>\n    </tr>\n    <tr>\n      <th>4858</th>\n      <td>Tristifer-IV-Mudd</td>\n    </tr>\n    <tr>\n      <th>4882</th>\n      <td>Zollo</td>\n    </tr>\n  </tbody>\n</table>\n<p>498 rows × 1 columns</p>\n</div>"
     },
     "execution_count": 3,
     "metadata": {},
     "output_type": "execute_result"
    }
   ],
   "source": [
    "personagens = pd.DataFrame()\n",
    "personagens['personagem'] = list(data['personagem_1']) + list(data['personagem_2'])\n",
    "personagens = personagens.drop_duplicates()\n",
    "personagens"
   ],
   "metadata": {
    "collapsed": false,
    "pycharm": {
     "name": "#%%\n"
    }
   }
  },
  {
   "cell_type": "code",
   "execution_count": 4,
   "outputs": [
    {
     "data": {
      "text/plain": "                     p  i_1  i_2  i_3    s\n136   Tyrion-Lannister   46   53   59  158\n76   Joffrey-Baratheon   30   47   50  127\n122         Robb-Stark   35   35   49  119\n79            Jon-Snow   37   28   52  117\n22       Catelyn-Stark   43   33   38  114\n..                 ...  ...  ...  ...  ...\n393               Joss    1    0    0    1\n394            Porther    1    0    0    1\n395         Tobho-Mott    1    0    0    1\n396             Tregar    1    0    0    1\n384             Coratt    1    0    0    1\n\n[498 rows x 5 columns]",
      "text/html": "<div>\n<style scoped>\n    .dataframe tbody tr th:only-of-type {\n        vertical-align: middle;\n    }\n\n    .dataframe tbody tr th {\n        vertical-align: top;\n    }\n\n    .dataframe thead th {\n        text-align: right;\n    }\n</style>\n<table border=\"1\" class=\"dataframe\">\n  <thead>\n    <tr style=\"text-align: right;\">\n      <th></th>\n      <th>p</th>\n      <th>i_1</th>\n      <th>i_2</th>\n      <th>i_3</th>\n      <th>s</th>\n    </tr>\n  </thead>\n  <tbody>\n    <tr>\n      <th>136</th>\n      <td>Tyrion-Lannister</td>\n      <td>46</td>\n      <td>53</td>\n      <td>59</td>\n      <td>158</td>\n    </tr>\n    <tr>\n      <th>76</th>\n      <td>Joffrey-Baratheon</td>\n      <td>30</td>\n      <td>47</td>\n      <td>50</td>\n      <td>127</td>\n    </tr>\n    <tr>\n      <th>122</th>\n      <td>Robb-Stark</td>\n      <td>35</td>\n      <td>35</td>\n      <td>49</td>\n      <td>119</td>\n    </tr>\n    <tr>\n      <th>79</th>\n      <td>Jon-Snow</td>\n      <td>37</td>\n      <td>28</td>\n      <td>52</td>\n      <td>117</td>\n    </tr>\n    <tr>\n      <th>22</th>\n      <td>Catelyn-Stark</td>\n      <td>43</td>\n      <td>33</td>\n      <td>38</td>\n      <td>114</td>\n    </tr>\n    <tr>\n      <th>...</th>\n      <td>...</td>\n      <td>...</td>\n      <td>...</td>\n      <td>...</td>\n      <td>...</td>\n    </tr>\n    <tr>\n      <th>393</th>\n      <td>Joss</td>\n      <td>1</td>\n      <td>0</td>\n      <td>0</td>\n      <td>1</td>\n    </tr>\n    <tr>\n      <th>394</th>\n      <td>Porther</td>\n      <td>1</td>\n      <td>0</td>\n      <td>0</td>\n      <td>1</td>\n    </tr>\n    <tr>\n      <th>395</th>\n      <td>Tobho-Mott</td>\n      <td>1</td>\n      <td>0</td>\n      <td>0</td>\n      <td>1</td>\n    </tr>\n    <tr>\n      <th>396</th>\n      <td>Tregar</td>\n      <td>1</td>\n      <td>0</td>\n      <td>0</td>\n      <td>1</td>\n    </tr>\n    <tr>\n      <th>384</th>\n      <td>Coratt</td>\n      <td>1</td>\n      <td>0</td>\n      <td>0</td>\n      <td>1</td>\n    </tr>\n  </tbody>\n</table>\n<p>498 rows × 5 columns</p>\n</div>"
     },
     "execution_count": 4,
     "metadata": {},
     "output_type": "execute_result"
    }
   ],
   "source": [
    "result = []\n",
    "\n",
    "for p in personagens.personagem:\n",
    "    df = data[(data['personagem_1'] == p) | (data['personagem_2'] == p)]\n",
    "\n",
    "    i_1 = df[df['livro'] == 1].shape[0]\n",
    "    i_2 = df[df['livro'] == 2].shape[0]\n",
    "    i_3 = df[df['livro'] == 3].shape[0]\n",
    "\n",
    "    s = i_1 + i_2 + i_3\n",
    "\n",
    "    result.append((p, i_1, i_2, i_3, s))\n",
    "\n",
    "result = pd.DataFrame(result, columns=['p', 'i_1', 'i_2', 'i_3', 's'])\n",
    "result = result.sort_values(by='s', ascending=False)\n",
    "result"
   ],
   "metadata": {
    "collapsed": false,
    "pycharm": {
     "name": "#%%\n"
    }
   }
  },
  {
   "cell_type": "code",
   "execution_count": 4,
   "outputs": [],
   "source": [],
   "metadata": {
    "collapsed": false,
    "pycharm": {
     "name": "#%%\n"
    }
   }
  }
 ],
 "metadata": {
  "kernelspec": {
   "display_name": "Python 3",
   "language": "python",
   "name": "python3"
  },
  "language_info": {
   "codemirror_mode": {
    "name": "ipython",
    "version": 2
   },
   "file_extension": ".py",
   "mimetype": "text/x-python",
   "name": "python",
   "nbconvert_exporter": "python",
   "pygments_lexer": "ipython2",
   "version": "2.7.6"
  }
 },
 "nbformat": 4,
 "nbformat_minor": 0
}