{
 "cells": [
  {
   "cell_type": "code",
   "execution_count": 1,
   "metadata": {
    "collapsed": true
   },
   "outputs": [],
   "source": [
    "import pandas as pd"
   ]
  },
  {
   "cell_type": "code",
   "execution_count": 2,
   "outputs": [
    {
     "data": {
      "text/plain": "                         personagem_1        personagem_2  interacoes  livro\n0                      Addam-Marbrand     Jaime-Lannister           3      1\n1                      Addam-Marbrand     Tywin-Lannister           6      1\n2                   Aegon-I-Targaryen  Daenerys-Targaryen           5      1\n3                   Aegon-I-Targaryen        Eddard-Stark           4      1\n4     Aemon-Targaryen-(Maester-Aemon)      Alliser-Thorne           4      1\n...                               ...                 ...         ...    ...\n2461                 Tyrion-Lannister   Viserys-Targaryen           4      3\n2462                 Tyrion-Lannister       Willas-Tyrell           5      3\n2463                  Tywin-Lannister               Varys           5      3\n2464                  Tywin-Lannister         Walder-Frey           4      3\n2465                       Vargo-Hoat               Zollo           3      3\n\n[2466 rows x 4 columns]",
      "text/html": "<div>\n<style scoped>\n    .dataframe tbody tr th:only-of-type {\n        vertical-align: middle;\n    }\n\n    .dataframe tbody tr th {\n        vertical-align: top;\n    }\n\n    .dataframe thead th {\n        text-align: right;\n    }\n</style>\n<table border=\"1\" class=\"dataframe\">\n  <thead>\n    <tr style=\"text-align: right;\">\n      <th></th>\n      <th>personagem_1</th>\n      <th>personagem_2</th>\n      <th>interacoes</th>\n      <th>livro</th>\n    </tr>\n  </thead>\n  <tbody>\n    <tr>\n      <th>0</th>\n      <td>Addam-Marbrand</td>\n      <td>Jaime-Lannister</td>\n      <td>3</td>\n      <td>1</td>\n    </tr>\n    <tr>\n      <th>1</th>\n      <td>Addam-Marbrand</td>\n      <td>Tywin-Lannister</td>\n      <td>6</td>\n      <td>1</td>\n    </tr>\n    <tr>\n      <th>2</th>\n      <td>Aegon-I-Targaryen</td>\n      <td>Daenerys-Targaryen</td>\n      <td>5</td>\n      <td>1</td>\n    </tr>\n    <tr>\n      <th>3</th>\n      <td>Aegon-I-Targaryen</td>\n      <td>Eddard-Stark</td>\n      <td>4</td>\n      <td>1</td>\n    </tr>\n    <tr>\n      <th>4</th>\n      <td>Aemon-Targaryen-(Maester-Aemon)</td>\n      <td>Alliser-Thorne</td>\n      <td>4</td>\n      <td>1</td>\n    </tr>\n    <tr>\n      <th>...</th>\n      <td>...</td>\n      <td>...</td>\n      <td>...</td>\n      <td>...</td>\n    </tr>\n    <tr>\n      <th>2461</th>\n      <td>Tyrion-Lannister</td>\n      <td>Viserys-Targaryen</td>\n      <td>4</td>\n      <td>3</td>\n    </tr>\n    <tr>\n      <th>2462</th>\n      <td>Tyrion-Lannister</td>\n      <td>Willas-Tyrell</td>\n      <td>5</td>\n      <td>3</td>\n    </tr>\n    <tr>\n      <th>2463</th>\n      <td>Tywin-Lannister</td>\n      <td>Varys</td>\n      <td>5</td>\n      <td>3</td>\n    </tr>\n    <tr>\n      <th>2464</th>\n      <td>Tywin-Lannister</td>\n      <td>Walder-Frey</td>\n      <td>4</td>\n      <td>3</td>\n    </tr>\n    <tr>\n      <th>2465</th>\n      <td>Vargo-Hoat</td>\n      <td>Zollo</td>\n      <td>3</td>\n      <td>3</td>\n    </tr>\n  </tbody>\n</table>\n<p>2466 rows × 4 columns</p>\n</div>"
     },
     "execution_count": 2,
     "metadata": {},
     "output_type": "execute_result"
    }
   ],
   "source": [
    "data = pd.read_csv('dataset.csv', names=['personagem_1', 'personagem_2', 'interacoes', 'livro'])\n",
    "data"
   ],
   "metadata": {
    "collapsed": false,
    "pycharm": {
     "name": "#%%\n"
    }
   }
  },
  {
   "cell_type": "code",
   "execution_count": 3,
   "outputs": [
    {
     "data": {
      "text/plain": "                           personagem\n0                      Addam-Marbrand\n2                   Aegon-I-Targaryen\n4     Aemon-Targaryen-(Maester-Aemon)\n11                 Aerys-II-Targaryen\n17                               Aggo\n...                               ...\n4816                          Ragwyle\n4833                Rollam-Westerling\n4849                     Rolph-Spicer\n4858                Tristifer-IV-Mudd\n4882                            Zollo\n\n[498 rows x 1 columns]",
      "text/html": "<div>\n<style scoped>\n    .dataframe tbody tr th:only-of-type {\n        vertical-align: middle;\n    }\n\n    .dataframe tbody tr th {\n        vertical-align: top;\n    }\n\n    .dataframe thead th {\n        text-align: right;\n    }\n</style>\n<table border=\"1\" class=\"dataframe\">\n  <thead>\n    <tr style=\"text-align: right;\">\n      <th></th>\n      <th>personagem</th>\n    </tr>\n  </thead>\n  <tbody>\n    <tr>\n      <th>0</th>\n      <td>Addam-Marbrand</td>\n    </tr>\n    <tr>\n      <th>2</th>\n      <td>Aegon-I-Targaryen</td>\n    </tr>\n    <tr>\n      <th>4</th>\n      <td>Aemon-Targaryen-(Maester-Aemon)</td>\n    </tr>\n    <tr>\n      <th>11</th>\n      <td>Aerys-II-Targaryen</td>\n    </tr>\n    <tr>\n      <th>17</th>\n      <td>Aggo</td>\n    </tr>\n    <tr>\n      <th>...</th>\n      <td>...</td>\n    </tr>\n    <tr>\n      <th>4816</th>\n      <td>Ragwyle</td>\n    </tr>\n    <tr>\n      <th>4833</th>\n      <td>Rollam-Westerling</td>\n    </tr>\n    <tr>\n      <th>4849</th>\n      <td>Rolph-Spicer</td>\n    </tr>\n    <tr>\n      <th>4858</th>\n      <td>Tristifer-IV-Mudd</td>\n    </tr>\n    <tr>\n      <th>4882</th>\n      <td>Zollo</td>\n    </tr>\n  </tbody>\n</table>\n<p>498 rows × 1 columns</p>\n</div>"
     },
     "execution_count": 3,
     "metadata": {},
     "output_type": "execute_result"
    }
   ],
   "source": [
    "personagens = pd.DataFrame()\n",
    "personagens['personagem'] = list(data['personagem_1']) + list(data['personagem_2'])\n",
    "personagens = personagens.drop_duplicates()\n",
    "personagens"
   ],
   "metadata": {
    "collapsed": false,
    "pycharm": {
     "name": "#%%\n"
    }
   }
  },
  {
   "cell_type": "code",
   "execution_count": 4,
   "outputs": [
    {
     "data": {
      "text/plain": "                     p  i_1  i_2  i_3    s\n136   Tyrion-Lannister   46   53   59  158\n76   Joffrey-Baratheon   30   47   50  127\n122         Robb-Stark   35   35   49  119\n79            Jon-Snow   37   28   52  117\n22       Catelyn-Stark   43   33   38  114\n..                 ...  ...  ...  ...  ...\n393               Joss    1    0    0    1\n394            Porther    1    0    0    1\n395         Tobho-Mott    1    0    0    1\n396             Tregar    1    0    0    1\n384             Coratt    1    0    0    1\n\n[498 rows x 5 columns]",
      "text/html": "<div>\n<style scoped>\n    .dataframe tbody tr th:only-of-type {\n        vertical-align: middle;\n    }\n\n    .dataframe tbody tr th {\n        vertical-align: top;\n    }\n\n    .dataframe thead th {\n        text-align: right;\n    }\n</style>\n<table border=\"1\" class=\"dataframe\">\n  <thead>\n    <tr style=\"text-align: right;\">\n      <th></th>\n      <th>p</th>\n      <th>i_1</th>\n      <th>i_2</th>\n      <th>i_3</th>\n      <th>s</th>\n    </tr>\n  </thead>\n  <tbody>\n    <tr>\n      <th>136</th>\n      <td>Tyrion-Lannister</td>\n      <td>46</td>\n      <td>53</td>\n      <td>59</td>\n      <td>158</td>\n    </tr>\n    <tr>\n      <th>76</th>\n      <td>Joffrey-Baratheon</td>\n      <td>30</td>\n      <td>47</td>\n      <td>50</td>\n      <td>127</td>\n    </tr>\n    <tr>\n      <th>122</th>\n      <td>Robb-Stark</td>\n      <td>35</td>\n      <td>35</td>\n      <td>49</td>\n      <td>119</td>\n    </tr>\n    <tr>\n      <th>79</th>\n      <td>Jon-Snow</td>\n      <td>37</td>\n      <td>28</td>\n      <td>52</td>\n      <td>117</td>\n    </tr>\n    <tr>\n      <th>22</th>\n      <td>Catelyn-Stark</td>\n      <td>43</td>\n      <td>33</td>\n      <td>38</td>\n      <td>114</td>\n    </tr>\n    <tr>\n      <th>...</th>\n      <td>...</td>\n      <td>...</td>\n      <td>...</td>\n      <td>...</td>\n      <td>...</td>\n    </tr>\n    <tr>\n      <th>393</th>\n      <td>Joss</td>\n      <td>1</td>\n      <td>0</td>\n      <td>0</td>\n      <td>1</td>\n    </tr>\n    <tr>\n      <th>394</th>\n      <td>Porther</td>\n      <td>1</td>\n      <td>0</td>\n      <td>0</td>\n      <td>1</td>\n    </tr>\n    <tr>\n      <th>395</th>\n      <td>Tobho-Mott</td>\n      <td>1</td>\n      <td>0</td>\n      <td>0</td>\n      <td>1</td>\n    </tr>\n    <tr>\n      <th>396</th>\n      <td>Tregar</td>\n      <td>1</td>\n      <td>0</td>\n      <td>0</td>\n      <td>1</td>\n    </tr>\n    <tr>\n      <th>384</th>\n      <td>Coratt</td>\n      <td>1</td>\n      <td>0</td>\n      <td>0</td>\n      <td>1</td>\n    </tr>\n  </tbody>\n</table>\n<p>498 rows × 5 columns</p>\n</div>"
     },
     "execution_count": 4,
     "metadata": {},
     "output_type": "execute_result"
    }
   ],
   "source": [
    "result = []\n",
    "\n",
    "for p in personagens.personagem:\n",
    "    df = data[(data['personagem_1'] == p) | (data['personagem_2'] == p)]\n",
    "\n",
    "    i_1 = df[df['livro'] == 1].shape[0]\n",
    "    i_2 = df[df['livro'] == 2].shape[0]\n",
    "    i_3 = df[df['livro'] == 3].shape[0]\n",
    "\n",
    "    s = i_1 + i_2 + i_3\n",
    "\n",
    "    result.append((p, i_1, i_2, i_3, s))\n",
    "\n",
    "result = pd.DataFrame(result, columns=['p', 'i_1', 'i_2', 'i_3', 's'])\n",
    "result = result.sort_values(by='s', ascending=False)\n",
    "result"
   ],
   "metadata": {
    "collapsed": false,
    "pycharm": {
     "name": "#%%\n"
    }
   }
  },
  {
   "cell_type": "code",
   "execution_count": 5,
   "outputs": [
    {
     "name": "stdout",
     "output_type": "stream",
     "text": [
      "['Tyrion-Lannister<TAB>46,53,59,158', 'Joffrey-Baratheon<TAB>30,47,50,127', 'Robb-Stark<TAB>35,35,49,119', 'Jon-Snow<TAB>37,28,52,117', 'Catelyn-Stark<TAB>43,33,38,114', 'Cersei-Lannister<TAB>30,43,38,111', 'Sansa-Stark<TAB>35,27,48,110', 'Arya-Stark<TAB>27,40,37,104', 'Eddard-Stark<TAB>66,22,16,104', 'Robert-Baratheon<TAB>50,26,26,102', 'Jaime-Lannister<TAB>29,21,45,95', 'Stannis-Baratheon<TAB>12,37,31,80', 'Bran-Stark<TAB>32,30,17,79', 'Tywin-Lannister<TAB>22,17,29,68', 'Daenerys-Targaryen<TAB>21,18,24,63', 'Renly-Baratheon<TAB>18,31,9,58', 'Varys<TAB>17,21,16,54', 'Sandor-Clegane<TAB>16,17,21,54', 'Petyr-Baelish<TAB>26,12,15,53', 'Theon-Greyjoy<TAB>15,32,4,51', 'Samwell-Tarly<TAB>12,6,30,48', 'Gregor-Clegane<TAB>12,14,22,48', 'Jeor-Mormont<TAB>13,15,18,46', 'Meryn-Trant<TAB>9,15,15,39', 'Loras-Tyrell<TAB>14,8,13,35', 'Rodrik-Cassel<TAB>18,16,1,35', 'Jorah-Mormont<TAB>13,10,12,35', 'Ilyn-Payne<TAB>9,13,11,33', 'Bronn<TAB>10,10,12,32', 'Lysa-Arryn<TAB>15,3,14,32', 'Edmure-Tully<TAB>11,7,13,31', 'Tommen-Baratheon<TAB>8,10,13,31', 'Luwin<TAB>18,12,1,31', 'Rickon-Stark<TAB>9,15,7,31', 'Aemon-Targaryen-(Maester-Aemon)<TAB>7,6,18,31', 'Davos-Seaworth<TAB>0,13,17,30', 'Roose-Bolton<TAB>5,9,15,29', 'Pycelle<TAB>14,8,7,29', 'Mance-Rayder<TAB>1,5,22,28', 'Drogo<TAB>19,4,4,27', 'Janos-Slynt<TAB>7,8,11,26', 'Barristan-Selmy<TAB>14,6,5,25', 'Brienne-of-Tarth<TAB>0,10,14,24', 'Polliver<TAB>0,13,11,24', 'Amory-Lorch<TAB>0,18,5,23', 'Dunsen<TAB>0,13,10,23', 'Grenn<TAB>7,3,12,22', 'Rafford<TAB>0,12,10,22', 'Myrcella-Baratheon<TAB>7,11,4,22', 'Tickler<TAB>0,11,10,21', 'Alliser-Thorne<TAB>10,4,7,21', 'Walder-Frey<TAB>7,2,12,21', 'Brynden-Tully<TAB>11,3,7,21', 'Jory-Cassel<TAB>21,0,0,21', 'Gendry<TAB>1,8,11,20', 'Craster<TAB>0,7,13,20', 'Mace-Tyrell<TAB>2,6,12,20', 'Boros-Blount<TAB>5,8,7,20', 'Aerys-II-Targaryen<TAB>6,5,9,20', 'Rhaegar-Targaryen<TAB>7,4,8,19', 'Pypar<TAB>7,0,12,19', 'Benjen-Stark<TAB>14,1,4,19', 'Yoren<TAB>7,12,0,19', 'Beric-Dondarrion<TAB>6,2,11,19', 'Jon-Umber-(Greatjon)<TAB>8,1,9,18', 'Jon-Arryn<TAB>15,0,3,18', 'Qhorin-Halfhand<TAB>0,8,10,18', 'Viserys-Targaryen<TAB>8,3,7,18', 'Shae<TAB>2,6,9,17', 'Rickard-Karstark<TAB>10,1,5,16', 'Margaery-Tyrell<TAB>0,5,11,16', 'Irri<TAB>8,2,6,16', 'Oberyn-Martell<TAB>0,0,16,16', 'Hoster-Tully<TAB>5,3,8,16', 'Eddison-Tollett<TAB>0,3,13,16', 'Lem<TAB>0,0,15,15', 'Hodor<TAB>4,8,3,15', 'Osmund-Kettleblack<TAB>0,7,8,15', 'Bowen-Marsh<TAB>5,0,10,15', 'Melisandre<TAB>0,5,9,14', 'Kevan-Lannister<TAB>3,0,11,14', 'Ygritte<TAB>0,4,10,14', 'Hot-Pie<TAB>0,8,5,13', 'Balon-Greyjoy<TAB>2,8,3,13', 'Jhogo<TAB>6,4,3,13', 'Jhiqui<TAB>5,2,6,13', 'Chiswyck<TAB>0,13,0,13', 'Aggo<TAB>6,5,2,13', 'Jojen-Reed<TAB>0,7,6,13', 'Balon-Swann<TAB>2,5,6,13', 'Rattleshirt<TAB>0,3,10,13', 'Belwas<TAB>0,5,7,12', 'Mordane<TAB>11,0,1,12', 'Nan<TAB>4,5,3,12', 'Osha<TAB>3,9,0,12', 'Vargo-Hoat<TAB>0,6,6,12', 'Dontos-Hollard<TAB>0,5,7,12', 'Meera-Reed<TAB>0,6,5,11', 'Rakharo<TAB>5,3,3,11', 'Rorge<TAB>0,6,5,11', 'Mandon-Moore<TAB>0,7,4,11', 'Harwin<TAB>4,0,7,11', 'Lothar-Frey<TAB>0,0,11,11', 'Gyles-Rosby<TAB>0,9,2,11', 'Thoros-of-Myr<TAB>1,1,9,11', 'Thoren-Smallwood<TAB>0,7,4,11', 'Aegon-I-Targaryen<TAB>2,5,3,10', 'Shireen-Baratheon<TAB>0,2,8,10', 'Owen<TAB>0,0,10,10', 'Tanda-Stokeworth<TAB>0,6,4,10', 'Axell-Florent<TAB>0,2,8,10', 'Ramsay-Snow<TAB>0,8,2,10', 'Shagga<TAB>6,4,0,10', 'Cressen<TAB>0,9,1,10', 'Addam-Marbrand<TAB>2,0,8,10', 'Selyse-Florent<TAB>0,4,6,10', 'Dywen<TAB>1,3,6,10', 'Halder<TAB>8,0,2,10', 'Lancel-Lannister<TAB>1,7,2,10', 'Tormund<TAB>0,0,9,9', 'Jacelyn-Bywater<TAB>0,9,0,9', 'Tom-of-Sevenstreams<TAB>0,0,9,9', 'Alester-Florent<TAB>0,4,5,9', 'Donal-Noye<TAB>1,0,8,9', 'Cleos-Frey<TAB>0,6,3,9', 'Elmar-Frey<TAB>0,0,9,9', 'Gerold-Hightower<TAB>5,0,4,9', 'Pylos<TAB>0,4,5,9', 'Marq-Piper<TAB>5,0,4,9', 'Chett<TAB>3,1,5,9', 'Brandon-Stark<TAB>6,0,3,9', 'Robert-Arryn<TAB>3,1,5,9', 'Cotter-Pyke<TAB>0,0,9,9', 'Anguy<TAB>0,0,9,9', 'Randyll-Tarly<TAB>1,6,2,9', 'Othell-Yarwyck<TAB>0,0,8,8', 'Harma<TAB>0,0,8,8', 'Styr<TAB>0,0,8,8', 'Jarl<TAB>0,0,8,8', 'Weese<TAB>0,8,0,8', 'Podrick-Payne<TAB>0,4,4,8', 'Hobb<TAB>1,0,7,8', 'Satin<TAB>0,0,8,8', 'Arstan<TAB>0,0,8,8', 'Garlan-Tyrell<TAB>0,2,6,8', 'Gilly<TAB>0,0,8,8', 'Willas-Tyrell<TAB>0,0,8,8', 'Lollys-Stokeworth<TAB>0,2,6,8', 'Wendel-Manderly<TAB>2,4,2,8', 'Denys-Mallister<TAB>0,0,8,8', 'Marillion<TAB>5,0,3,8', 'Mycah<TAB>5,0,3,8', 'Illyrio-Mopatis<TAB>6,0,2,8', 'Olenna-Redwyne<TAB>0,0,8,8', 'Tomard<TAB>7,0,0,7', 'Cortnay-Penrose<TAB>0,7,0,7', 'Kegs<TAB>0,0,7,7', 'Doreah<TAB>6,1,0,7', 'Galbart-Glover<TAB>6,0,1,7', 'Qotho<TAB>7,0,0,7', 'Daario-Naharis<TAB>0,0,7,7', 'Mirri-Maz-Duur<TAB>6,1,0,7', 'Elia-Martell<TAB>0,0,7,7', 'Salladhor-Saan<TAB>0,2,5,7', 'Hallis-Mollen<TAB>5,2,0,7', 'Greenbeard<TAB>0,0,7,7', 'Desmond-Grell<TAB>0,3,4,7', 'Donella-Hornwood<TAB>0,7,0,7', 'Mathis-Rowan<TAB>0,5,2,7', 'Lark<TAB>0,1,5,6', 'Ryman-Frey<TAB>0,0,6,6', 'Edric-Storm<TAB>0,0,6,6', 'Walder-Frey-(son-of-Merrett)<TAB>0,6,0,6', 'Jaqen-Hghar<TAB>0,6,0,6', 'Vardis-Egen<TAB>6,0,0,6', 'Paxter-Redwyne<TAB>1,1,4,6', 'Doran-Martell<TAB>0,3,3,6', 'Hullen<TAB>6,0,0,6', 'Haggo<TAB>6,0,0,6', 'Lommy-Greenhands<TAB>0,6,0,6', 'Rast<TAB>6,0,0,6', 'Devan-Seaworth<TAB>0,3,3,6', 'Jeyne-Poole<TAB>6,0,0,6', 'Spare-Boot<TAB>0,0,6,6', 'Maege-Mormont<TAB>2,0,4,6', 'Timett<TAB>2,4,0,6', 'Small-Paul<TAB>0,0,6,6', 'Willis-Wode<TAB>6,0,0,6', 'Arthur-Dayne<TAB>1,0,5,6', 'Tansy<TAB>0,0,6,6', 'Jaremy-Rykker<TAB>4,2,0,6', 'Syrio-Forel<TAB>3,2,0,5', 'Mikken<TAB>0,5,0,5', 'Alayaya<TAB>0,2,3,5', 'Hareth-(Moles-Town)<TAB>0,0,5,5', 'Tysha<TAB>0,3,2,5', 'Qyburn<TAB>0,1,4,5', 'Walton<TAB>0,0,5,5', 'Alyn<TAB>5,0,0,5', 'Wex-Pyke<TAB>0,5,0,5', 'Mully<TAB>0,0,5,5', 'Robett-Glover<TAB>0,2,3,5', 'Stevron-Frey<TAB>2,0,3,5', 'Biter<TAB>0,4,1,5', 'Todder<TAB>4,0,1,5', 'Vyman<TAB>0,3,2,5', 'Woth<TAB>0,5,0,5', 'Dagmer<TAB>0,5,0,5', 'Vayon-Poole<TAB>5,0,0,5', 'Bedwyck<TAB>0,0,5,5', 'Quaro<TAB>5,0,0,5', 'Clydas<TAB>1,0,4,5', 'Roslin-Frey<TAB>0,0,5,5', 'Jeyne-Westerling<TAB>0,0,5,5', 'Bryce-Caron<TAB>0,5,0,5', 'Ebben<TAB>0,4,0,4', 'Weasel<TAB>0,4,0,4', 'Missandei<TAB>0,0,4,4', 'Aegon-Frey-(son-of-Stevron)<TAB>0,0,4,4', 'Willem-Lannister<TAB>0,0,4,4', 'Mero<TAB>0,0,4,4', 'Tytos-Blackwood<TAB>3,0,1,4', 'Stonesnake<TAB>0,4,0,4', 'Aggar<TAB>0,4,0,4', 'Ottyn-Wythers<TAB>0,3,1,4', 'Alebelly<TAB>0,4,0,4', 'Helman-Tallhart<TAB>0,1,3,4', 'Val<TAB>0,0,4,4', 'Lyanna-Stark<TAB>4,0,0,4', 'Arys-Oakheart<TAB>1,3,0,4', 'Ryk<TAB>0,0,4,4', 'Stafford-Lannister<TAB>0,4,0,4', 'Benfred-Tallhart<TAB>0,4,0,4', 'Wyl-(guard)<TAB>4,0,0,4', 'Cohollo<TAB>4,0,0,4', 'High-Septon-(Tyrions)<TAB>0,1,3,4', 'Lorren<TAB>0,4,0,4', 'Asha-Greyjoy<TAB>0,4,0,4', 'Wyman-Manderly<TAB>0,4,0,4', 'Lewyn-Martell<TAB>0,0,4,4', 'Sharna<TAB>0,0,4,4', 'Chella<TAB>1,3,0,4', 'Utherydes-Wayn<TAB>0,2,2,4', 'Lamprey<TAB>0,0,4,4', 'Ballabar<TAB>0,2,2,4', 'Dalla<TAB>0,0,3,3', 'Oswell-Whent<TAB>1,0,2,3', 'Chiggen<TAB>3,0,0,3', 'Dacey-Mormont<TAB>0,0,3,3', 'Varamyr<TAB>0,0,3,3', 'Symon-Silver-Tongue<TAB>0,0,3,3', 'Ogo<TAB>3,0,0,3', 'Torrhen-Karstark<TAB>3,0,0,3', 'Baelor-I-Targaryen<TAB>0,0,3,3', 'Ben-Plumm<TAB>0,0,3,3', 'Ellaria-Sand<TAB>0,0,3,3', 'Robin-Flint<TAB>0,0,3,3', 'Raynald-Westerling<TAB>0,0,3,3', 'Conn<TAB>3,0,0,3', 'Elinor-Tyrell<TAB>0,0,3,3', 'Khorane-Sathmantes<TAB>0,0,3,3', 'Cayn<TAB>3,0,0,3', 'Danwell-Frey<TAB>3,0,0,3', 'Errok<TAB>0,0,3,3', 'Megga-Tyrell<TAB>0,0,3,3', 'Lothor-Brune<TAB>0,0,3,3', 'Porridge<TAB>0,0,3,3', 'Robar-Royce<TAB>0,3,0,3', 'Pono<TAB>0,3,0,3', 'Albett<TAB>3,0,0,3', 'Grigg<TAB>0,0,3,3', 'Jason-Mallister<TAB>0,1,2,3', 'Alla-Tyrell<TAB>0,0,3,3', 'Dalbridge<TAB>0,3,0,3', 'Cutjack<TAB>0,3,0,3', 'Patchface<TAB>0,2,1,3', 'Eon-Hunter<TAB>3,0,0,3', 'Emmon-Cuy<TAB>0,3,0,3', 'Cley-Cerwyn<TAB>0,3,0,3', 'Gared<TAB>3,0,0,3', 'Squint<TAB>0,3,0,3', 'Stygg<TAB>0,3,0,3', 'Olyvar-Frey<TAB>0,1,2,3', 'High-Septon-(fat_one)<TAB>2,1,0,3', 'Monford-Velaryon<TAB>0,3,0,3', 'Harren-Hoare<TAB>0,3,0,3', 'Leobald-Tallhart<TAB>0,3,0,3', 'Karyl-Vance<TAB>3,0,0,3', 'Andrew-Estermont<TAB>0,0,3,3', 'Jarman-Buckwell<TAB>0,3,0,3', 'Allard-Seaworth<TAB>0,3,0,3', 'Beth-Cassel<TAB>0,3,0,3', 'Perwyn-Frey<TAB>0,2,1,3', 'Waymar-Royce<TAB>3,0,0,3', 'Guyard-Morrigen<TAB>0,2,0,2', 'Eldon-Estermont<TAB>0,2,0,2', 'Colemon<TAB>2,0,0,2', 'Rickard-Stark<TAB>2,0,0,2', 'Hallyne<TAB>0,2,0,2', 'Kraznys-mo-Nakloz<TAB>0,0,2,2', 'Hosteen-Frey<TAB>2,0,0,2', 'Gynir<TAB>0,2,0,2', 'Petyr-Frey<TAB>0,0,2,2', 'Stiv<TAB>2,0,0,2', 'Prendahl-na-Ghezn<TAB>0,0,2,2', 'Smiling-Knight<TAB>0,0,2,2', 'Heward<TAB>2,0,0,2', 'Oznak-zo-Pahl<TAB>0,0,2,2', 'Gariss<TAB>0,2,0,2', 'Horas-Redwyne<TAB>0,2,0,2', 'Florian-the-Fool<TAB>0,2,0,2', 'Zollo<TAB>0,0,2,2', 'Drennan<TAB>0,2,0,2', 'Moon-Boy<TAB>0,1,1,2', 'Amabel<TAB>0,2,0,2', 'Reek<TAB>0,2,0,2', 'Victarion-Greyjoy<TAB>0,2,0,2', 'Joseth<TAB>2,0,0,2', 'Osney-Kettleblack<TAB>0,2,0,2', 'Vylarr<TAB>0,2,0,2', 'Harra<TAB>0,2,0,2', 'Hayhead<TAB>0,2,0,2', 'Allar-Deem<TAB>0,2,0,2', 'Xaro-Xhoan-Daxos<TAB>0,2,0,2', 'Visenya-Targaryen<TAB>0,2,0,2', 'Jommo<TAB>2,0,0,2', 'Will-(prologue)<TAB>2,0,0,2', 'Nestor-Royce<TAB>2,0,0,2', 'Urzen<TAB>0,2,0,2', 'Howland-Reed<TAB>1,1,0,2', 'Steffon-Baratheon<TAB>0,2,0,2', 'Chataya<TAB>0,1,1,2', 'Chayle<TAB>0,2,0,2', 'Jared-Frey<TAB>2,0,0,2', 'Werlag<TAB>0,2,0,2', 'Bannen<TAB>0,0,2,2', 'Colen-of-Greenpools<TAB>0,2,0,2', 'Jalabhar-Xho<TAB>0,0,2,2', 'Torrhen-Stark<TAB>0,0,2,2', 'Robin-Ryger<TAB>0,0,2,2', 'Aeron-Greyjoy<TAB>0,2,0,2', 'Rhaella-Targaryen<TAB>0,0,2,2', 'Oswell-Kettleblack<TAB>0,0,2,2', 'Husband<TAB>0,0,2,2', 'Pyat-Pree<TAB>0,2,0,2', 'Guncer-Sunglass<TAB>0,0,2,2', 'Raymun-Darry<TAB>2,0,0,2', 'Grey-Worm<TAB>0,0,2,2', 'Weeper<TAB>0,0,2,2', 'Shagwell<TAB>0,0,2,2', 'Orell<TAB>0,0,2,2', 'Gendel<TAB>0,0,2,2', 'Gawen-Westerling<TAB>0,0,2,2', 'Rhaenys-Targaryen<TAB>0,2,0,2', 'Dolf<TAB>1,1,0,2', 'Desmond<TAB>2,0,0,2', 'Dirk<TAB>0,0,2,2', 'Dick-Follard<TAB>0,0,2,2', 'Walder-Frey-(son-of-Jammos)<TAB>0,2,0,2', 'Morrec<TAB>2,0,0,2', 'Walder-Rivers<TAB>0,0,2,2', 'Alerie-Hightower<TAB>0,0,2,2', 'Coldhands<TAB>0,0,2,2', 'Clubfoot-Karl<TAB>0,0,2,2', 'Cleon<TAB>0,0,2,2', 'Butterbumps<TAB>0,0,2,2', 'Rollam-Westerling<TAB>0,0,2,2', 'Brella<TAB>0,0,2,2', 'Big-Boil<TAB>0,0,2,2', 'Preston-Greenfield<TAB>0,2,0,2', 'Gorne<TAB>0,0,2,2', 'Maegor-I-Targaryen<TAB>1,0,1,2', 'Jonothor-Darry<TAB>0,0,2,2', 'Koss<TAB>0,2,0,2', 'Ghael<TAB>0,0,2,2', 'Sallor<TAB>0,0,2,2', 'Merrett-Frey<TAB>0,0,2,2', 'Martyn-Lannister<TAB>0,0,2,2', 'Daryn-Hornwood<TAB>2,0,0,2', 'Mag-Mar-Tun-Doh-Weg<TAB>0,0,2,2', 'Jyck<TAB>2,0,0,2', 'Sybell-Spicer<TAB>0,0,2,2', 'Jack-Bulwer<TAB>0,0,2,2', 'Jon-Umber-(Smalljon)<TAB>0,0,2,2', 'Mad-Huntsman<TAB>0,0,1,1', 'Imry-Florent<TAB>0,1,0,1', 'Leo-Lefford<TAB>1,0,0,1', 'Groleo<TAB>0,0,1,1', 'Quaithe<TAB>0,1,0,1', 'Lynesse-Hightower<TAB>0,1,0,1', 'Yohn-Royce<TAB>0,0,1,1', 'Tarber<TAB>0,1,0,1', 'Selwyn-Tarth<TAB>0,1,0,1', 'Pate-(Old)<TAB>0,0,1,1', 'Kurz<TAB>0,1,0,1', 'Ragwyle<TAB>0,0,1,1', 'Mord<TAB>1,0,0,1', 'Merrit<TAB>0,0,1,1', 'Kurleket<TAB>1,0,0,1', 'Rolph-Spicer<TAB>0,0,1,1', 'Osfryd-Kettleblack<TAB>0,1,0,1', 'Tristifer-IV-Mudd<TAB>0,0,1,1', 'Matthos-Seaworth<TAB>0,1,0,1', 'Mors-Umber<TAB>0,1,0,1', 'Softfoot<TAB>0,0,1,1', 'Gerald-Gower<TAB>0,0,1,1', 'Wynton-Stout<TAB>0,0,1,1', 'Ravella-Swann<TAB>0,0,1,1', 'Leonette-Fossoway<TAB>0,0,1,1', 'Urswyck<TAB>0,0,1,1', 'Watt<TAB>0,0,1,1', 'Rossart<TAB>0,0,1,1', 'Zei<TAB>0,0,1,1', 'Aegon-V-Targaryen<TAB>0,1,0,1', 'Trystane-Martell<TAB>0,1,0,1', 'Rhaegel-Targaryen<TAB>0,0,1,1', 'Frenken<TAB>0,0,1,1', 'Aerys-I-Targaryen<TAB>0,1,0,1', 'Mebble<TAB>0,1,0,1', 'Murch<TAB>0,1,0,1', 'Jonquil<TAB>0,1,0,1', 'Aenys-Frey<TAB>0,1,0,1', 'Maron-Greyjoy<TAB>0,1,0,1', 'Lyn-Corbray<TAB>1,0,0,1', 'Steffon-Varner<TAB>0,1,0,1', 'Azor-Ahai<TAB>0,0,1,1', 'Ardrian-Celtigar<TAB>0,1,0,1', 'Aron-Santagar<TAB>0,1,0,1', 'Gunthor-son-of-Gurn<TAB>1,0,0,1', 'Martyn-Rivers<TAB>0,1,0,1', 'Dareon<TAB>1,0,0,1', 'Lorent-Caswell<TAB>0,1,0,1', 'Mallador-Locke<TAB>0,0,1,1', 'Kyra<TAB>0,1,0,1', 'Munda<TAB>0,0,1,1', 'Nage<TAB>0,0,1,1', 'Jon-Fossoway<TAB>0,1,0,1', 'Harys-Swyft<TAB>1,0,0,1', 'Hobber-Redwyne<TAB>0,1,0,1', 'Halys-Hornwood<TAB>0,1,0,1', 'Hake<TAB>0,1,0,1', 'Simon-Toyne<TAB>0,0,1,1', 'Tion-Frey<TAB>0,0,1,1', 'Kella<TAB>0,0,1,1', 'Joramun<TAB>0,0,1,1', 'Joanna-Lannister<TAB>0,0,1,1', 'Daeron-I-Targaryen<TAB>0,0,1,1', 'Arson<TAB>0,0,1,1', 'Blane<TAB>0,0,1,1', 'Brenett<TAB>0,0,1,1', 'Byam-Flint<TAB>0,0,1,1', 'Anders-Yronwood<TAB>0,0,1,1', 'Aemon-Targaryen-(Dragonknight)<TAB>0,0,1,1', 'Aegon-Targaryen-(son-of-Rhaegar)<TAB>0,0,1,1', 'Palla<TAB>0,1,0,1', 'Shadd<TAB>0,1,0,1', 'Galyeon-of-Cuy<TAB>0,0,1,1', 'Grazdan-mo-Eraz<TAB>0,0,1,1', 'Fogo<TAB>1,0,0,1', 'Grisel<TAB>0,0,1,1', 'Jack-Be-Lucky<TAB>0,0,1,1', 'Clement-Piper<TAB>1,0,0,1', 'Farlen<TAB>0,1,0,1', 'Euron-Greyjoy<TAB>0,1,0,1', 'Dancy<TAB>0,1,0,1', 'Matthar<TAB>1,0,0,1', 'Othor<TAB>1,0,0,1', 'Ulf-son-of-Umar<TAB>1,0,0,1', 'Daeron-II-Targaryen<TAB>0,1,0,1', 'Maekar-I-Targaryen<TAB>0,1,0,1', 'Gelmarr<TAB>0,1,0,1', 'Marya-Seaworth<TAB>0,1,0,1', 'Wylla<TAB>1,0,0,1', 'Dobber<TAB>0,1,0,1', 'Praed<TAB>0,1,0,1', 'Jonos-Bracken<TAB>1,0,0,1', 'Bael-the-Bard<TAB>0,1,0,1', 'Poxy-Tym<TAB>0,1,0,1', 'Arwyn-Oakheart<TAB>0,1,0,1', 'Captain-Myraham<TAB>0,1,0,1', 'Captain-Myraham-Daughter<TAB>0,1,0,1', 'Hugh<TAB>1,0,0,1', 'Jafer-Flowers<TAB>1,0,0,1', 'Hali<TAB>1,0,0,1', 'Donnel-Waynwood<TAB>1,0,0,1', 'Masha-Heddle<TAB>1,0,0,1', 'Moreo-Tumitis<TAB>1,0,0,1', 'Mya-Stone<TAB>1,0,0,1', 'Mychel-Redfort<TAB>1,0,0,1', 'Eroeh<TAB>1,0,0,1', 'Varly<TAB>1,0,0,1', 'Rhaego<TAB>1,0,0,1', 'Jacks<TAB>1,0,0,1', 'Joss<TAB>1,0,0,1', 'Porther<TAB>1,0,0,1', 'Tobho-Mott<TAB>1,0,0,1', 'Tregar<TAB>1,0,0,1', 'Coratt<TAB>1,0,0,1']\n"
     ]
    }
   ],
   "source": [
    "result_list = []\n",
    "for index, i in result.iterrows():\n",
    "    line = i['p'] + '<TAB>' + str(i['i_1']) + ',' + str(i['i_2']) + ','+ str(i['i_3']) + ','+ str(i['s'])\n",
    "    result_list.append(line)\n",
    "\n",
    "print(result_list)"
   ],
   "metadata": {
    "collapsed": false,
    "pycharm": {
     "name": "#%%\n"
    }
   }
  }
 ],
 "metadata": {
  "kernelspec": {
   "display_name": "Python 3",
   "language": "python",
   "name": "python3"
  },
  "language_info": {
   "codemirror_mode": {
    "name": "ipython",
    "version": 2
   },
   "file_extension": ".py",
   "mimetype": "text/x-python",
   "name": "python",
   "nbconvert_exporter": "python",
   "pygments_lexer": "ipython2",
   "version": "2.7.6"
  }
 },
 "nbformat": 4,
 "nbformat_minor": 0
}